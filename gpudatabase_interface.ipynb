{
 "cells": [
  {
   "cell_type": "code",
   "execution_count": null,
   "metadata": {
    "collapsed": true
   },
   "outputs": [],
   "source": [
    "import sqlite3\n",
    "import pandas as pd\n",
    "import time\n",
    "from IPython.core.display import clear_output"
   ]
  },
  {
   "cell_type": "code",
   "execution_count": null,
   "metadata": {
    "collapsed": true
   },
   "outputs": [],
   "source": [
    "DB = \"gpudata.db\"\n",
    "\n",
    "def run_query(q):\n",
    "    with sqlite3.connect(DB) as conn:\n",
    "        return pd.read_sql(q,conn)\n",
    "\n",
    "def run_command(c):\n",
    "    with sqlite3.connect(DB) as conn:\n",
    "        conn.execute('PRAGMA foreign_keys = ON;')\n",
    "        conn.isolation_level = None\n",
    "        conn.execute(c)\n",
    "        \n",
    "def run_inserts(c, values):\n",
    "    with sqlite3.connect(DB) as conn:\n",
    "        conn.execute('PRAGMA foreign_keys = ON;')\n",
    "        conn.isolation_level = None\n",
    "        conn.execute(c, values) \n",
    "        \n",
    "def show_tables():\n",
    "    q = '''\n",
    "    SELECT\n",
    "        name,\n",
    "        type\n",
    "    FROM sqlite_master\n",
    "    WHERE type IN (\"table\",\"view\");\n",
    "    '''\n",
    "    return run_query(q)"
   ]
  },
  {
   "cell_type": "code",
   "execution_count": null,
   "metadata": {},
   "outputs": [],
   "source": [
    "#Create the chipsets table\n",
    "c0 = \"\"\"\n",
    "CREATE TABLE chipsets(\n",
    "    chipset_id INTEGER PRIMARY KEY AUTOINCREMENT,\n",
    "    chipset_name TEXT\n",
    "); \n",
    "\"\"\"\n",
    "\n",
    "run_command(c0)"
   ]
  },
  {
   "cell_type": "code",
   "execution_count": null,
   "metadata": {
    "collapsed": true
   },
   "outputs": [],
   "source": [
    "#Create the card_specs table\n",
    "c1 = \"\"\"\n",
    "CREATE TABLE card_specs(\n",
    "    card_id TEXT PRIMARY KEY,\n",
    "    card_name TEXT,\n",
    "    series TEXT,\n",
    "    chipset_id INTEGER,\n",
    "    memory_in_GB FLOAT,\n",
    "    core_clock_in_GHz FLOAT,\n",
    "    ratings INTEGER,\n",
    "    manufacturer TEXT,\n",
    "    part_number TEXT,\n",
    "    interface TEXT,\n",
    "    memory_type TEXT,\n",
    "    tdp_in_watts INTEGER,\n",
    "    fan TEXT,\n",
    "    sli_support TEXT,\n",
    "    crossfire_support TEXT,\n",
    "    hdmi INTEGER DEFAULT 0,\n",
    "    FOREIGN KEY(chipset_id) REFERENCES chipsets(chipset_id)\n",
    "); \n",
    "\"\"\"\n",
    "\n",
    "run_command(c1)"
   ]
  },
  {
   "cell_type": "code",
   "execution_count": null,
   "metadata": {
    "collapsed": true
   },
   "outputs": [],
   "source": [
    "#Create the card_prices table\n",
    "c2 = \"\"\"\n",
    "CREATE TABLE card_prices(\n",
    "    card_id TEXT,\n",
    "    merchant_id INTEGER,    \n",
    "    datetime FLOAT,\n",
    "    price FLOAT,\n",
    "    PRIMARY KEY(card_id, merchant_id, datetime)\n",
    "    FOREIGN KEY(card_id) REFERENCES card_specs(card_id)\n",
    "    FOREIGN KEY(merchant_id) REFERENCES merchants(merchant_id)\n",
    "); \n",
    "\"\"\"\n",
    "\n",
    "run_command(c2)"
   ]
  },
  {
   "cell_type": "code",
   "execution_count": null,
   "metadata": {
    "collapsed": true
   },
   "outputs": [],
   "source": [
    "#Create the merchants table\n",
    "c3 = \"\"\"\n",
    "CREATE TABLE merchants(\n",
    "    merchant_id INTEGER PRIMARY KEY AUTOINCREMENT,\n",
    "    merchant_name TEXT\n",
    "); \n",
    "\"\"\"\n",
    "\n",
    "run_command(c3)"
   ]
  },
  {
   "cell_type": "code",
   "execution_count": null,
   "metadata": {
    "collapsed": true
   },
   "outputs": [],
   "source": [
    "#Create the benchmarks table\n",
    "c4 = \"\"\"\n",
    "CREATE TABLE benchmarks(\n",
    "    chipset_id INTEGER PRIMARY KEY,\n",
    "    passmark_g3d INTEGER,\n",
    "    passmark_direct_compute INTEGER,\n",
    "    FOREIGN KEY(chipset_id) REFERENCES chipsets(chipset_id)\n",
    "); \n",
    "\"\"\"\n",
    "\n",
    "run_command(c4)"
   ]
  },
  {
   "cell_type": "code",
   "execution_count": null,
   "metadata": {
    "collapsed": true,
    "scrolled": true
   },
   "outputs": [],
   "source": [
    "show_tables()"
   ]
  },
  {
   "cell_type": "code",
   "execution_count": null,
   "metadata": {
    "collapsed": true
   },
   "outputs": [],
   "source": [
    "#Uncomment the lines to remove the table(s).\n",
    "#run_command('''DROP table chipsets''')\n",
    "#run_command('''DROP TABLE card_specs;''')\n",
    "#run_command('''DROP TABLE card_prices;''')\n",
    "#run_command('''DROP TABLE merchants;''')\n",
    "#run_command('''DROP TABLE benchmarks;''')"
   ]
  },
  {
   "cell_type": "code",
   "execution_count": null,
   "metadata": {
    "collapsed": true
   },
   "outputs": [],
   "source": []
  },
  {
   "cell_type": "code",
   "execution_count": null,
   "metadata": {
    "collapsed": true
   },
   "outputs": [],
   "source": []
  }
 ],
 "metadata": {
  "kernelspec": {
   "display_name": "py36",
   "language": "python",
   "name": "py36"
  },
  "language_info": {
   "codemirror_mode": {
    "name": "ipython",
    "version": 3
   },
   "file_extension": ".py",
   "mimetype": "text/x-python",
   "name": "python",
   "nbconvert_exporter": "python",
   "pygments_lexer": "ipython3",
   "version": "3.6.3"
  }
 },
 "nbformat": 4,
 "nbformat_minor": 2
}

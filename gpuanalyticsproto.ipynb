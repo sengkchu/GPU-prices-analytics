{
 "cells": [
  {
   "cell_type": "code",
   "execution_count": 1,
   "metadata": {
    "collapsed": true
   },
   "outputs": [],
   "source": [
    "import sqlite3\n",
    "from requests import get\n",
    "from bs4 import BeautifulSoup\n",
    "import time\n",
    "import random\n",
    "import pandas as pd\n",
    "import re\n",
    "import math\n",
    "from json import loads\n",
    "from IPython.core.display import clear_output"
   ]
  },
  {
   "cell_type": "code",
   "execution_count": 2,
   "metadata": {
    "collapsed": true
   },
   "outputs": [],
   "source": [
    "#Interface with SQL\n",
    "def run_query(DB, q):\n",
    "    with sqlite3.connect(DB) as conn:\n",
    "        return pd.read_sql(q,conn)\n",
    "\n",
    "def run_command(DB, c):\n",
    "    with sqlite3.connect(DB) as conn:\n",
    "        conn.execute('PRAGMA foreign_keys = ON;')\n",
    "        conn.isolation_level = None\n",
    "        conn.execute(c)\n",
    "        \n",
    "def run_inserts(DB, c, values):\n",
    "    with sqlite3.connect(DB) as conn:\n",
    "        conn.execute('PRAGMA foreign_keys = ON;')\n",
    "        conn.isolation_level = None\n",
    "        conn.execute(c, values) "
   ]
  },
  {
   "cell_type": "code",
   "execution_count": 3,
   "metadata": {
    "collapsed": true
   },
   "outputs": [],
   "source": [
    "def scrape_gpu_specs():\n",
    "    DB = 'gpudata.db'\n",
    "    pages = pcpartpicker.lists.total_pages(\"video-card\")\n",
    "    start_time = time.time()\n",
    "    \n",
    "    insert_query = '''\n",
    "    INSERT OR IGNORE INTO gpu_specs(\n",
    "        item_id,\n",
    "        name,\n",
    "        series,\n",
    "        chipset,\n",
    "        memory,\n",
    "        core_clock,\n",
    "        ratings\n",
    "    ) \n",
    "    VALUES (?, ?, ?, ?, ?, ?, ?)\n",
    "    '''\n",
    "    \n",
    "    for i in range(1, pages+1):\n",
    "        gpu_info = pcpartpicker.lists.get_list(\"video-card\", i)\n",
    "\n",
    "        for gpu in gpu_info:\n",
    "            item_id = gpu['id']\n",
    "            name = gpu['name']\n",
    "            series = gpu['series']\n",
    "            chipset = gpu['chipset']\n",
    "            memory = gpu['memory']\n",
    "            core_clock = gpu['core-clock']\n",
    "            ratings = gpu['ratings']\n",
    "            if gpu['price'] == '':\n",
    "                print('No price found for item_id: {0}'.format(item_id))\n",
    "                continue\n",
    "                \n",
    "            try:\n",
    "                run_inserts(DB, insert_query,(\n",
    "                    item_id, name, series, chipset, memory, core_clock, \\\n",
    "                    int(ratings), \n",
    "                    )\n",
    "                )\n",
    "            except Exception as e:\n",
    "                print('Failed to add into DB for item_id: {0}, {1}'.format(item_id, e))\n",
    "                pass\n",
    "            \n",
    "        #Provide stats for monitoring\n",
    "        current_time = time.time()\n",
    "        elapsed_time = current_time - start_time\n",
    "        requests = i\n",
    "        print('-------------------')\n",
    "        print('Requests Completed: {}; Frequency: {} requests/s'.format(requests, requests/elapsed_time))\n",
    "        print('Elapased Time: {} minutes'.format(elapsed_time/60))\n",
    "        if requests == pages:\n",
    "            clear_output(wait = True)\n",
    "            print('Scrape Complete')\n",
    "            break\n",
    "        print('Pausing...')    \n",
    "        time.sleep(random.uniform(5, 10))   \n",
    "        clear_output(wait = True)"
   ]
  },
  {
   "cell_type": "code",
   "execution_count": 22,
   "metadata": {},
   "outputs": [
    {
     "name": "stdout",
     "output_type": "stream",
     "text": [
      "Scrape Complete\n"
     ]
    }
   ],
   "source": [
    "scrape_gpu_specs()"
   ]
  },
  {
   "cell_type": "code",
   "execution_count": null,
   "metadata": {
    "collapsed": true
   },
   "outputs": [],
   "source": [
    "#https://pcpartpicker.com/product/3fvZxr?history_days=730"
   ]
  },
  {
   "cell_type": "code",
   "execution_count": 4,
   "metadata": {},
   "outputs": [
    {
     "data": {
      "text/plain": [
       "'http://pcpartpicker.com/product/7xKhP6?history_days=730'"
      ]
     },
     "execution_count": 4,
     "metadata": {},
     "output_type": "execute_result"
    }
   ],
   "source": [
    "gpu_id = \"7xKhP6\"\n",
    "prefix = ''\n",
    "url = 'http://{0}pcpartpicker.com/product/{1}?history_days=730'.format(prefix, gpu_id)\n",
    "url"
   ]
  },
  {
   "cell_type": "code",
   "execution_count": 5,
   "metadata": {
    "collapsed": true
   },
   "outputs": [],
   "source": [
    "response = get(url=url)"
   ]
  },
  {
   "cell_type": "code",
   "execution_count": 6,
   "metadata": {
    "collapsed": true
   },
   "outputs": [],
   "source": [
    "html_soup = BeautifulSoup(response.text, 'html.parser')"
   ]
  },
  {
   "cell_type": "code",
   "execution_count": 7,
   "metadata": {},
   "outputs": [
    {
     "data": {
      "text/plain": [
       "[<script type=\"text/javascript\">window.NREUM||(NREUM={}),__nr_require=function(e,t,n){function r(n){if(!t[n]){var o=t[n]={exports:{}};e[n][0].call(o.exports,function(t){var o=e[n][1][t];return r(o||t)},o,o.exports)}return t[n].exports}if(\"function\"==typeof __nr_require)return __nr_require;for(var o=0;o<n.length;o++)r(n[o]);return r}({1:[function(e,t,n){function r(){}function o(e,t,n){return function(){return i(e,[f.now()].concat(u(arguments)),t?null:this,n),t?void 0:this}}var i=e(\"handle\"),a=e(2),u=e(3),c=e(\"ee\").get(\"tracer\"),f=e(\"loader\"),s=NREUM;\"undefined\"==typeof window.newrelic&&(newrelic=s);var p=[\"setPageViewName\",\"setCustomAttribute\",\"setErrorHandler\",\"finished\",\"addToTrace\",\"inlineHit\",\"addRelease\"],d=\"api-\",l=d+\"ixn-\";a(p,function(e,t){s[t]=o(d+t,!0,\"api\")}),s.addPageAction=o(d+\"addPageAction\",!0),s.setCurrentRouteName=o(d+\"routeName\",!0),t.exports=newrelic,s.interaction=function(){return(new r).get()};var m=r.prototype={createTracer:function(e,t){var n={},r=this,o=\"function\"==typeof t;return i(l+\"tracer\",[f.now(),e,n],r),function(){if(c.emit((o?\"\":\"no-\")+\"fn-start\",[f.now(),r,o],n),o)try{return t.apply(this,arguments)}catch(e){throw c.emit(\"fn-err\",[arguments,this,e],n),e}finally{c.emit(\"fn-end\",[f.now()],n)}}}};a(\"setName,setAttribute,save,ignore,onEnd,getContext,end,get\".split(\",\"),function(e,t){m[t]=o(l+t)}),newrelic.noticeError=function(e){\"string\"==typeof e&&(e=new Error(e)),i(\"err\",[e,f.now()])}},{}],2:[function(e,t,n){function r(e,t){var n=[],r=\"\",i=0;for(r in e)o.call(e,r)&&(n[i]=t(r,e[r]),i+=1);return n}var o=Object.prototype.hasOwnProperty;t.exports=r},{}],3:[function(e,t,n){function r(e,t,n){t||(t=0),\"undefined\"==typeof n&&(n=e?e.length:0);for(var r=-1,o=n-t||0,i=Array(o<0?0:o);++r<o;)i[r]=e[t+r];return i}t.exports=r},{}],4:[function(e,t,n){t.exports={exists:\"undefined\"!=typeof window.performance&&window.performance.timing&&\"undefined\"!=typeof window.performance.timing.navigationStart}},{}],ee:[function(e,t,n){function r(){}function o(e){function t(e){return e&&e instanceof r?e:e?c(e,u,i):i()}function n(n,r,o,i){if(!d.aborted||i){e&&e(n,r,o);for(var a=t(o),u=m(n),c=u.length,f=0;f<c;f++)u[f].apply(a,r);var p=s[y[n]];return p&&p.push([b,n,r,a]),a}}function l(e,t){v[e]=m(e).concat(t)}function m(e){return v[e]||[]}function w(e){return p[e]=p[e]||o(n)}function g(e,t){f(e,function(e,n){t=t||\"feature\",y[n]=t,t in s||(s[t]=[])})}var v={},y={},b={on:l,emit:n,get:w,listeners:m,context:t,buffer:g,abort:a,aborted:!1};return b}function i(){return new r}function a(){(s.api||s.feature)&&(d.aborted=!0,s=d.backlog={})}var u=\"nr@context\",c=e(\"gos\"),f=e(2),s={},p={},d=t.exports=o();d.backlog=s},{}],gos:[function(e,t,n){function r(e,t,n){if(o.call(e,t))return e[t];var r=n();if(Object.defineProperty&&Object.keys)try{return Object.defineProperty(e,t,{value:r,writable:!0,enumerable:!1}),r}catch(i){}return e[t]=r,r}var o=Object.prototype.hasOwnProperty;t.exports=r},{}],handle:[function(e,t,n){function r(e,t,n,r){o.buffer([e],r),o.emit(e,t,n)}var o=e(\"ee\").get(\"handle\");t.exports=r,r.ee=o},{}],id:[function(e,t,n){function r(e){var t=typeof e;return!e||\"object\"!==t&&\"function\"!==t?-1:e===window?0:a(e,i,function(){return o++})}var o=1,i=\"nr@id\",a=e(\"gos\");t.exports=r},{}],loader:[function(e,t,n){function r(){if(!x++){var e=h.info=NREUM.info,t=d.getElementsByTagName(\"script\")[0];if(setTimeout(s.abort,3e4),!(e&&e.licenseKey&&e.applicationID&&t))return s.abort();f(y,function(t,n){e[t]||(e[t]=n)}),c(\"mark\",[\"onload\",a()+h.offset],null,\"api\");var n=d.createElement(\"script\");n.src=\"https://\"+e.agent,t.parentNode.insertBefore(n,t)}}function o(){\"complete\"===d.readyState&&i()}function i(){c(\"mark\",[\"domContent\",a()+h.offset],null,\"api\")}function a(){return E.exists&&performance.now?Math.round(performance.now()):(u=Math.max((new Date).getTime(),u))-h.offset}var u=(new Date).getTime(),c=e(\"handle\"),f=e(2),s=e(\"ee\"),p=window,d=p.document,l=\"addEventListener\",m=\"attachEvent\",w=p.XMLHttpRequest,g=w&&w.prototype;NREUM.o={ST:setTimeout,SI:p.setImmediate,CT:clearTimeout,XHR:w,REQ:p.Request,EV:p.Event,PR:p.Promise,MO:p.MutationObserver};var v=\"\"+location,y={beacon:\"bam.nr-data.net\",errorBeacon:\"bam.nr-data.net\",agent:\"js-agent.newrelic.com/nr-1071.min.js\"},b=w&&g&&g[l]&&!/CriOS/.test(navigator.userAgent),h=t.exports={offset:u,now:a,origin:v,features:{},xhrWrappable:b};e(1),d[l]?(d[l](\"DOMContentLoaded\",i,!1),p[l](\"load\",r,!1)):(d[m](\"onreadystatechange\",o),p[m](\"onload\",r)),c(\"mark\",[\"firstbyte\",u],null,\"api\");var x=0,E=e(4)},{}]},{},[\"loader\"]);</script>,\n",
       " <script type=\"text/javascript\">window.NREUM||(NREUM={});NREUM.info={\"beacon\":\"bam.nr-data.net\",\"queueTime\":0,\"licenseKey\":\"e2df38885d\",\"agent\":\"\",\"transactionName\":\"Y1NWYkRSXUBRAkIMWVoZckNYUEdaXw8ZFUZrVVtEUx1DQV8FQwZCGkBdU0FACUNCDlIQVUBpQl9TRA==\",\"applicationID\":\"285320\",\"errorBeacon\":\"bam.nr-data.net\",\"applicationTime\":81}</script>,\n",
       " <script src=\"//cdn.pcpartpicker.com/static/forever/hash/site-890bf7f2c2469c78af5ab4a57d927e47.js\" type=\"text/javascript\"></script>,\n",
       " <script src=\"//cdn.pcpartpicker.com/static/forever/hash/gallery-545495f72e98cc0f2e13a26abc118f9e.js\" type=\"text/javascript\"></script>,\n",
       " <script>\n",
       "       var global_country_sign = '$';\n",
       "       $(document).ready(function(){\n",
       "         init_consent('.pcpartpicker.com', false, false);\n",
       "         init_country_selector('us');\n",
       "         init_live_search(undefined, undefined, true);\n",
       "         init_confirm_dialog();\n",
       "         init_common_buttons();\n",
       "         make_drop_nav('.nav-parts', '.browse-parts-tray');\n",
       "         make_drop_nav('.search-parts', '.search-tray', function() {\n",
       "           $('#search_q').focus();\n",
       "         });\n",
       "         \n",
       "       });\n",
       "       \n",
       "     $(document).ready(function(){\n",
       "         \n",
       "         init_carousel('.build-carousel', 7);\n",
       "         \n",
       "         $('#history_days').change(function() {\n",
       "             window.location.search = '?history_days=' + $('#history_days').val();\n",
       "         })\n",
       " \n",
       " \n",
       "         $('#part_add_partlist').click(function() { pp_partlist_add('7xKhP6', parseInt($('#part_add_partlist_quantity').val())); return false; });\n",
       "         var phistmulti = [{\"data\":[[1465884410000,null],[1505253502000,79999],[1509550280000,75199],[1510183998000,75199],[1510183998000,null],[1510349345000,75199],[1513296009000,75199],[1513296009000,null],[1513371051000,75199],[1513810882000,82017],[1513897171000,83381],[1513978793000,79999],[1514064740000,89472],[1514159244000,89472],[1514159244000,null],[1516653073000,129999],[1516742998000,119900],[1516919642000,129999],[1516998723000,139999],[1517088671000,129900],[1517517355000,119900],[1517607092000,138687],[1517693403000,129900],[1518127643000,119999],[1518299555000,114900],[1518560391000,112999],[1519608158000,128999],[1519688928000,128998],[1519863720000,128797],[1520040971000,128697],[1520212288000,114999],[1520300651000,125487],[1520387109000,114999],[1520471542000,114995],[1520722323000,119995],[1520893726000,117999],[1521064989000,119995],[1521411621000,105900],[1521756502000,119995],[1523740279000,149901],[1524261175000,97310],[1524349769000,97310],[1524349769000,null],[1526072028000,128899],[1526158528000,123099],[1526598026000,109999],[1526945212000,108199],[1527375009000,109799],[1527461248000,109999],[1527894180000,96299],[1527981308000,109999],[1528154004000,83111],[1528325648000,79099],[1528956410000,79099]],\"label\":\"Newegg Marketplace\"},{\"data\":[[1465884410000,null],[1521696786000,91498],[1521786797000,91498],[1521786797000,null],[1524030499000,95498],[1524117359000,95498],[1524117359000,null],[1528004706000,75498],[1528956410000,75498]],\"label\":\"Newegg Business\"},{\"data\":[[1465884410000,null],[1490466290000,71998],[1490725541000,71998],[1490725541000,null],[1491070969000,71998],[1491243045000,71998],[1491243045000,null],[1491933935000,71998],[1492020990000,71998],[1492020990000,null],[1492539033000,71998],[1492626353000,71998],[1492626353000,null],[1492716503000,71998],[1492800414000,71998],[1492800414000,null],[1493079072000,71998],[1493119817000,71998],[1493119817000,null],[1493241003000,71998],[1493245926000,71998],[1493245926000,null],[1493249998000,71998],[1493425538000,70698],[1493461942000,70698],[1493461942000,null],[1493466002000,70698],[1493677467000,70498],[1493880320000,70498],[1493880320000,null],[1493884433000,70498],[1493889322000,70498],[1493889322000,null],[1493896638000,70498],[1493905384000,70498],[1493905384000,null],[1493910897000,70498],[1493922573000,70498],[1493922573000,null],[1494430696000,70498],[1495869002000,65999],[1495873931000,65999],[1495873931000,null],[1496043533000,70498],[1496492051000,70498],[1496492051000,null],[1496495331000,70498],[1496499276000,70498],[1496499276000,null],[1496503468000,70498],[1496537045000,70498],[1496537045000,null],[1496540366000,70498],[1496555953000,70498],[1496555953000,null],[1496559232000,70498],[1496733237000,70498],[1496733237000,null],[1497031395000,69999],[1497338388000,70498],[1497595133000,73498],[1498466793000,73498],[1498466793000,null],[1498470903000,73498],[1498669191000,73498],[1498669191000,null],[1498673690000,73498],[1498681182000,74498],[1498689893000,73498],[1498693963000,74498],[1498758763000,73498],[1498831000000,74498],[1498835333000,73498],[1499117484000,73498],[1499117484000,null],[1499121603000,73498],[1499369898000,76498],[1499725729000,76498],[1499725729000,null],[1499728822000,76498],[1499750866000,76498],[1499750866000,null],[1499754232000,76498],[1499800030000,76498],[1499800030000,null],[1499803732000,76498],[1501294098000,71498],[1501424078000,71498],[1501424078000,null],[1501426971000,71498],[1501433275000,71498],[1501433275000,null],[1501436426000,71498],[1501641877000,71498],[1501641877000,null],[1508282669000,71498],[1508292037000,71498],[1508292037000,null],[1508296202000,71498],[1508305530000,71498],[1508305530000,null],[1508314169000,71498],[1508319028000,71498],[1508319028000,null],[1508323202000,71498],[1508337037000,71498],[1508337037000,null],[1508341132000,71498],[1508427017000,71498],[1508427017000,null],[1508431166000,71498],[1508449518000,71498],[1508449518000,null],[1508453667000,71498],[1508458506000,71498],[1508458506000,null],[1508894633000,72498],[1508899468000,72498],[1508899468000,null],[1508907198000,72498],[1508912026000,72498],[1508912026000,null],[1508930598000,72498],[1508934561000,72498],[1508934561000,null],[1508937797000,72498],[1508945335000,72498],[1508945335000,null],[1508952198000,72498],[1511464476000,72498],[1511464476000,null],[1511820391000,72498],[1511836382000,72498],[1511836382000,null],[1511840255000,72498],[1511844257000,72498],[1511844257000,null],[1511851061000,72498],[1511855051000,72498],[1511855051000,null],[1511861860000,72498],[1511869418000,72498],[1511869418000,null],[1512107526000,72498],[1512111518000,72498],[1512111518000,null],[1512118361000,72498],[1512122317000,72498],[1512122317000,null],[1512125527000,72498],[1512129498000,72498],[1512129498000,null],[1514874919000,72498],[1514878803000,72498],[1514878803000,null],[1514882119000,72498],[1514886000000,72498],[1514886000000,null],[1514889319000,72498],[1514896767000,72498],[1514896767000,null],[1514900119000,72498],[1514939686000,75498],[1515274758000,75498],[1515274758000,null],[1515278085000,75498],[1515328767000,75498],[1515328767000,null],[1515346381000,75498],[1515350331000,75498],[1515350331000,null],[1515353650000,75498],[1515415134000,75498],[1515415134000,null],[1515556080000,75498],[1515559956000,75498],[1515559956000,null],[1515566884000,75498],[1515570759000,75498],[1515570759000,null],[1515577680000,75498],[1516060387000,75498],[1516060387000,null],[1516067349000,75498],[1516103657000,75498],[1516103657000,null],[1516132080000,78498],[1516153982000,78498],[1516153982000,null],[1516419249000,91498],[1516423111000,91498],[1516423111000,null],[1516426485000,91498],[1516430308000,91498],[1516430308000,null],[1516440884000,91498],[1516649838000,91498],[1516649838000,null],[1516847579000,91498],[1516858681000,91498],[1516858681000,null],[1516869180000,91498],[1516873142000,91498],[1516873142000,null],[1516876379000,91498],[1516883843000,91498],[1516883843000,null],[1516905181000,91498],[1516919915000,91498],[1516919915000,null],[1516923249000,91498],[1516937919000,91498],[1516937919000,null],[1517246280000,91498],[1517250224000,91498],[1517250224000,null],[1517253480000,91498],[1517257393000,91498],[1517257393000,null],[1517300315000,91498],[1517307783000,91498],[1517307783000,null],[1517311116000,91498],[1517314994000,91498],[1517314994000,null],[1517541550000,91498],[1517559819000,91498],[1517559819000,null],[1517566715000,91498],[1517574220000,91498],[1517574220000,null],[1518114710000,91498],[1518118660000,91498],[1518118660000,null],[1518154415000,91498],[1518158346000,91498],[1518158346000,null],[1518165284000,91498],[1518169110000,91498],[1518169110000,null],[1518503650000,91498],[1518507499000,91498],[1518507499000,null],[1518518049000,91498],[1518525499000,91498],[1518525499000,null],[1518651250000,91498],[1518658717000,91498],[1518658717000,null],[1518662059000,91498],[1518665917000,91498],[1518665917000,null],[1518669250000,91498],[1518676716000,91498],[1518676716000,null],[1518683616000,91498],[1518687523000,91498],[1518687523000,null],[1518690780000,91498],[1518709116000,91498],[1518709116000,null],[1518712450000,91498],[1519239187000,91498],[1519239187000,null],[1519242515000,91498],[1519246387000,91498],[1519246387000,null],[1519253315000,91498],[1519260751000,91498],[1519260751000,null],[1519264080000,91498],[1519267988000,91498],[1519267988000,null],[1519274915000,91498],[1519278821000,91498],[1519278821000,null],[1519285750000,91498],[1519433666000,91498],[1519433666000,null],[1519768185000,91498],[1519772026000,91498],[1519772026000,null],[1519775421000,91498],[1519779260000,91498],[1519779260000,null],[1519850986000,91498],[1519862061000,91498],[1519862061000,null],[1519865386000,91498],[1519869262000,91498],[1519869262000,null],[1519872585000,91498],[1519876459000,91498],[1519876459000,null],[1519894308000,91498],[1519905268000,91498],[1519905268000,null],[1520454885000,91498],[1520462378000,91498],[1520462378000,null],[1520487320000,91498],[1520494748000,91498],[1520494748000,null],[1520501721000,91498],[1520512749000,91498],[1520512749000,null],[1520534085000,91498],[1520541510000,91498],[1520541510000,null],[1520544850000,91498],[1520552337000,91498],[1520552337000,null],[1520634885000,91498],[1520645942000,91498],[1520645942000,null],[1520876085000,91498],[1520879911000,91498],[1520879911000,null],[1521581722000,91498],[1521585592000,91498],[1521585592000,null],[1521588921000,91498],[1521596390000,91498],[1521596390000,null],[1521599722000,91498],[1521603590000,91498],[1521603590000,null],[1521606920000,91498],[1521614390000,91498],[1521614390000,null],[1521621322000,91498],[1521830447000,91498],[1521830447000,null],[1522082156000,91498],[1522085995000,91498],[1522085995000,null],[1522269356000,91498],[1522280387000,91498],[1522280387000,null],[1523989446000,95498],[1524075956000,95498],[1524075956000,null],[1526583159000,75498],[1526604980000,75498],[1526604980000,null],[1526673126000,75498],[1527074681000,75498],[1527074681000,null],[1527078058000,75498],[1528148190000,73498],[1528956410000,73498]],\"label\":\"Newegg\"},{\"data\":[[1465884410000,null],[1493299190000,70999],[1494422348000,69989],[1496063889000,66989],[1496078290000,68489],[1496236685000,69989],[1496841465000,68499],[1497791828000,70999],[1497806229000,72999],[1498483011000,72999],[1498483011000,null],[1498670198000,72999],[1498843001000,72999],[1498843001000,null],[1500398141000,72999],[1500556544000,72999],[1500556544000,null],[1505481171000,72999],[1506877929000,72999],[1506877929000,null],[1506964318000,72999],[1508245871000,73989],[1509556222000,72861],[1509642620000,71999],[1512655707000,72989],[1513865263000,74989],[1513951659000,76900],[1514815627000,71999],[1514988431000,71999],[1514988431000,null],[1521547377000,98989],[1521979360000,96989],[1523967927000,96989],[1523967927000,null],[1528956410000,null]],\"label\":\"B&H\"}];\n",
       "         var phist_plots = [];\n",
       "         for (var i in phistmulti) {\n",
       "             phist_plots.push({\n",
       "                 label_id: i,\n",
       "                 data: phistmulti[i].data,\n",
       "                 label: phistmulti[i].label,\n",
       "                 lines: {\n",
       "                     show: true,\n",
       "                     steps: true,\n",
       "                     lineWidth: 2\n",
       "                 },\n",
       "                 shadowSize: 0\n",
       "             });\n",
       "         }\n",
       "         var plot = $.plot($('#price_history'),\n",
       "             phist_plots,\n",
       "             {\n",
       "                 crosshair: {\n",
       "                     mode: \"x\"\n",
       "                 },\n",
       "                 grid: {\n",
       "                     hoverable: true,\n",
       "                     autoHighlight: false\n",
       "                 },\n",
       "                 legend: {\n",
       "                     show: false,\n",
       "                 },\n",
       "                 xaxis: {\n",
       "                     mode: 'time',\n",
       "                     minTickSize: [1, \"day\"],\n",
       "                     min: 1465884410000,\n",
       "                     max: 1528956410000,\n",
       "                     \n",
       "                     tickSize: [3, \"month\"]\n",
       "                     \n",
       "                 },\n",
       "                 yaxis: {\n",
       "                     \n",
       "                     tickFormatter: function(v, axis) { v /= 100.0; return '$' + v.toFixed(2); }\n",
       "                 }\n",
       "             }\n",
       "         );\n",
       " \n",
       "         function get_last_price(mseries) {\n",
       "             if (mseries.data.length == 0)\n",
       "                 return null;\n",
       "             return mseries.data[mseries.data.length - 1][1];\n",
       "         }\n",
       "         function render_price(x) {\n",
       "             if (x == null || x <= 0)\n",
       "                 return '';\n",
       "             return format_price('$', x);\n",
       "         }\n",
       "         function update_tooltip_prices(prices, timestamp) {\n",
       "             var date = new Date(parseInt(timestamp));\n",
       "             var datenow = new Date();\n",
       "             var hoursago = Math.floor((datenow - date) / (60 * 60 * 1000));\n",
       "             var daysago = parseInt(Math.floor(hoursago / 24));\n",
       "             var yearsago = parseInt(Math.floor(daysago / 365));\n",
       "             daysago = daysago % 365;\n",
       "             hoursago = hoursago - (daysago * 24);\n",
       "             var agostr = '';\n",
       " \n",
       "             agostr = ' (';\n",
       "             if (yearsago > 0)\n",
       "                 agostr = agostr + yearsago + 'y ';\n",
       "             if (daysago > 0)\n",
       "                 agostr = agostr + daysago + 'd ';\n",
       "             \n",
       "             agostr = agostr + ' ago)';\n",
       "             \n",
       "             $('#price_history_tooltip_date').text((date.getMonth() + 1) + '/' + date.getDate() + '/' + date.getFullYear() + agostr);\n",
       "             var lowest_price = null;\n",
       "             for(var i = 0; i < prices.length; ++i) {\n",
       "                 var price = prices[i];\n",
       "                 if (price != null && (lowest_price == null || price < lowest_price))\n",
       "                     lowest_price = price;\n",
       "             }\n",
       "             for(var i = 0; i < flot_data.length; ++i) {\n",
       "                 var price = prices[flot_data[i].label_id];\n",
       "                 $('#price_history_price_' + flot_data[i].label_id + ' td.price-history-price').text(render_price(price));\n",
       "                 if (price != null && price == lowest_price)\n",
       "                     $('#price_history_price_' + flot_data[i].label_id).addClass('price_history_lowest');\n",
       "                 else\n",
       "                     $('#price_history_price_' + flot_data[i].label_id).removeClass('price_history_lowest');\n",
       "             }\n",
       "         }\n",
       " \n",
       "         var flot_data = plot.getData();\n",
       "         for(var i = 0; i < flot_data.length; ++i)\n",
       "             $('#price_history_tooltip table tbody').append('<tr id=\"price_history_price_' + flot_data[i].label_id + '\"><td class=\"price-history-tooltip-color\" style=\"background-color:' + flot_data[i].color + ';\"></td><td class=\"price-history-tooltip-merchant\">' + flot_data[i].label + '</td><td class=\"price-history-price\"></td></tr>');\n",
       "         update_flot_legend(plot, '#price_history_legend');\n",
       " \n",
       "         var latestPosition = null;\n",
       "         var updateLegendTimeout = null;\n",
       "         var ctx = plot.getCanvas().getContext('2d');\n",
       " \n",
       "         function updateLegend() {\n",
       "             updateLegendTimeout = null;\n",
       "             var pos = latestPosition;\n",
       "             var axes = plot.getAxes();\n",
       "             if (pos.x < axes.xaxis.min || pos.x > axes.xaxis.max || pos.y < axes.yaxis.min || pos.y > axes.yaxis.max)\n",
       "                 return;\n",
       " \n",
       "             var i, j, dataset = plot.getData();\n",
       "             var prices = [];\n",
       "             for (i = 0; i < dataset.length; ++i) {\n",
       "                 var series = dataset[i];\n",
       "                 var curval = null;\n",
       "                 for (j = 0; j < series.data.length; ++j)\n",
       "                     if (series.data[j][0] < pos.x)\n",
       "                         curval = series.data[j][1];\n",
       "                     else\n",
       "                         break;\n",
       "                 prices.push(curval);\n",
       "             }\n",
       "             timestamp = pos.x;\n",
       "             update_tooltip_prices(prices, timestamp);\n",
       " \n",
       "             var o = plot.pointOffset({x: pos.x, y: pos.y});\n",
       "             var leftpos = o.left + 50;\n",
       "             var tooltip_width = $('#price_history_tooltip').width();\n",
       "             if ((pos.pageX - plot.offset().left) + 43 + tooltip_width > plot.width())\n",
       "                 leftpos = leftpos - 100 - tooltip_width;\n",
       "             var d = {\n",
       "                 position: \"absolute\",\n",
       "                 display: \"block\",\n",
       "                 top: 6,\n",
       "                 left: leftpos,\n",
       "             };\n",
       "             $(\"#price_history_tooltip\").css(d);\n",
       "         }\n",
       "         $('#price_history').mouseout(function(e){\n",
       "             $('#price_history_tooltip').hide();\n",
       "         });\n",
       "         $('#price_history').bind('plothover', function (e, pos, item) {\n",
       "             latestPosition = pos;\n",
       "             var offset = plot.offset();\n",
       "             var x = pos.pageX - offset.left;\n",
       "             var y = pos.pageY - offset.top;\n",
       "             if (x >= 0 && x < plot.width() && y >= 0 && y < plot.height()) {\n",
       "                 if (!updateLegendTimeout)\n",
       "                     updateLegendTimeout = setTimeout(updateLegend, 20);\n",
       "             }\n",
       "             else {\n",
       "                 if (updateLegendTimeout) {\n",
       "                     clearTimeout(updateLegendTimeout);\n",
       "                     updateLegendTimeout = null;\n",
       "                 }\n",
       "                 $('#price_history_tooltip').hide();\n",
       "             }\n",
       "         });\n",
       "     });\n",
       "     var carousel_images = [\n",
       "      \n",
       "      {src:\"//cdn.pcpartpicker.com/static/forever/images/product/faf78dd24b9c93d5853f857290059538.1600.jpg\",thumb:\"//cdn.pcpartpicker.com/static/forever/images/product/faf78dd24b9c93d5853f857290059538.256p.jpg\"},\n",
       "      \n",
       "      {src:\"//cdn.pcpartpicker.com/static/forever/images/product/27346cab5835856daf9adaccc19cc187.1600.jpg\",thumb:\"//cdn.pcpartpicker.com/static/forever/images/product/27346cab5835856daf9adaccc19cc187.256p.jpg\"},\n",
       "      \n",
       "      {src:\"//cdn.pcpartpicker.com/static/forever/images/product/7dc4ca12296159944b0b2771f3a233ef.1600.jpg\",thumb:\"//cdn.pcpartpicker.com/static/forever/images/product/7dc4ca12296159944b0b2771f3a233ef.256p.jpg\"},\n",
       "      \n",
       "      {src:\"//cdn.pcpartpicker.com/static/forever/images/product/818ec283ba72bfb902f44719e0cd8469.1600.jpg\",thumb:\"//cdn.pcpartpicker.com/static/forever/images/product/818ec283ba72bfb902f44719e0cd8469.256p.jpg\"},\n",
       "      \n",
       "      {src:\"//cdn.pcpartpicker.com/static/forever/images/product/2e13c394a7b723113f93d5aeae464d46.1600.jpg\",thumb:\"//cdn.pcpartpicker.com/static/forever/images/product/2e13c394a7b723113f93d5aeae464d46.256p.jpg\"}\n",
       "      \n",
       "    ];\n",
       " \n",
       "     </script>,\n",
       " <script type=\"text/javascript\">\n",
       "       var _gaq = _gaq || [];\n",
       "       _gaq.push(['_setAccount', 'UA-16428016-1']);\n",
       "       _gaq.push(['_setDomainName', 'pcpartpicker.com']);\n",
       "       _gaq.push(['_trackPageview']);\n",
       "       (function() {\n",
       "         var ga = document.createElement('script'); ga.type = 'text/javascript'; ga.async = true;\n",
       "         ga.src = ('https:' == document.location.protocol ? 'https://ssl' : 'http://www') + '.google-analytics.com/ga.js';\n",
       "         var s = document.getElementsByTagName('script')[0]; s.parentNode.insertBefore(ga, s);\n",
       "       })();\n",
       "     </script>,\n",
       " <script>\n",
       "     $(document).ready(function(){\n",
       "       $('.language-selector').customSelect();\n",
       "       $('span.customSelect').css('width', '');\n",
       "       $('span.customSelectInner').css('width', '');\n",
       "     });\n",
       "   </script>]"
      ]
     },
     "execution_count": 7,
     "metadata": {},
     "output_type": "execute_result"
    }
   ],
   "source": [
    "scripts = html_soup.findAll('script')\n",
    "scripts"
   ]
  },
  {
   "cell_type": "code",
   "execution_count": 8,
   "metadata": {
    "collapsed": true
   },
   "outputs": [],
   "source": [
    "scripts = html_soup.findAll('script')\n",
    "for script in scripts:\n",
    "    if 'phistmulti' in script.text:\n",
    "        data = script.prettify().split('\\n')\n",
    "        for line in data:\n",
    "            if 'phistmulti' in line:\n",
    "                idx = line.index('[')\n",
    "                price_history = line[idx:-1]\n",
    "                price_data = loads(price_history)\n",
    "                break"
   ]
  },
  {
   "cell_type": "code",
   "execution_count": 9,
   "metadata": {},
   "outputs": [
    {
     "name": "stdout",
     "output_type": "stream",
     "text": [
      "-----\n",
      "Newegg Marketplace\n",
      "-----\n",
      "[[1465884410000, None], [1505253502000, 79999], [1509550280000, 75199], [1510183998000, 75199], [1510183998000, None], [1510349345000, 75199], [1513296009000, 75199], [1513296009000, None], [1513371051000, 75199], [1513810882000, 82017], [1513897171000, 83381], [1513978793000, 79999], [1514064740000, 89472], [1514159244000, 89472], [1514159244000, None], [1516653073000, 129999], [1516742998000, 119900], [1516919642000, 129999], [1516998723000, 139999], [1517088671000, 129900], [1517517355000, 119900], [1517607092000, 138687], [1517693403000, 129900], [1518127643000, 119999], [1518299555000, 114900], [1518560391000, 112999], [1519608158000, 128999], [1519688928000, 128998], [1519863720000, 128797], [1520040971000, 128697], [1520212288000, 114999], [1520300651000, 125487], [1520387109000, 114999], [1520471542000, 114995], [1520722323000, 119995], [1520893726000, 117999], [1521064989000, 119995], [1521411621000, 105900], [1521756502000, 119995], [1523740279000, 149901], [1524261175000, 97310], [1524349769000, 97310], [1524349769000, None], [1526072028000, 128899], [1526158528000, 123099], [1526598026000, 109999], [1526945212000, 108199], [1527375009000, 109799], [1527461248000, 109999], [1527894180000, 96299], [1527981308000, 109999], [1528154004000, 83111], [1528325648000, 79099], [1528956410000, 79099]]\n",
      "-----\n",
      "Newegg Business\n",
      "-----\n",
      "[[1465884410000, None], [1521696786000, 91498], [1521786797000, 91498], [1521786797000, None], [1524030499000, 95498], [1524117359000, 95498], [1524117359000, None], [1528004706000, 75498], [1528956410000, 75498]]\n",
      "-----\n",
      "Newegg\n",
      "-----\n",
      "[[1465884410000, None], [1490466290000, 71998], [1490725541000, 71998], [1490725541000, None], [1491070969000, 71998], [1491243045000, 71998], [1491243045000, None], [1491933935000, 71998], [1492020990000, 71998], [1492020990000, None], [1492539033000, 71998], [1492626353000, 71998], [1492626353000, None], [1492716503000, 71998], [1492800414000, 71998], [1492800414000, None], [1493079072000, 71998], [1493119817000, 71998], [1493119817000, None], [1493241003000, 71998], [1493245926000, 71998], [1493245926000, None], [1493249998000, 71998], [1493425538000, 70698], [1493461942000, 70698], [1493461942000, None], [1493466002000, 70698], [1493677467000, 70498], [1493880320000, 70498], [1493880320000, None], [1493884433000, 70498], [1493889322000, 70498], [1493889322000, None], [1493896638000, 70498], [1493905384000, 70498], [1493905384000, None], [1493910897000, 70498], [1493922573000, 70498], [1493922573000, None], [1494430696000, 70498], [1495869002000, 65999], [1495873931000, 65999], [1495873931000, None], [1496043533000, 70498], [1496492051000, 70498], [1496492051000, None], [1496495331000, 70498], [1496499276000, 70498], [1496499276000, None], [1496503468000, 70498], [1496537045000, 70498], [1496537045000, None], [1496540366000, 70498], [1496555953000, 70498], [1496555953000, None], [1496559232000, 70498], [1496733237000, 70498], [1496733237000, None], [1497031395000, 69999], [1497338388000, 70498], [1497595133000, 73498], [1498466793000, 73498], [1498466793000, None], [1498470903000, 73498], [1498669191000, 73498], [1498669191000, None], [1498673690000, 73498], [1498681182000, 74498], [1498689893000, 73498], [1498693963000, 74498], [1498758763000, 73498], [1498831000000, 74498], [1498835333000, 73498], [1499117484000, 73498], [1499117484000, None], [1499121603000, 73498], [1499369898000, 76498], [1499725729000, 76498], [1499725729000, None], [1499728822000, 76498], [1499750866000, 76498], [1499750866000, None], [1499754232000, 76498], [1499800030000, 76498], [1499800030000, None], [1499803732000, 76498], [1501294098000, 71498], [1501424078000, 71498], [1501424078000, None], [1501426971000, 71498], [1501433275000, 71498], [1501433275000, None], [1501436426000, 71498], [1501641877000, 71498], [1501641877000, None], [1508282669000, 71498], [1508292037000, 71498], [1508292037000, None], [1508296202000, 71498], [1508305530000, 71498], [1508305530000, None], [1508314169000, 71498], [1508319028000, 71498], [1508319028000, None], [1508323202000, 71498], [1508337037000, 71498], [1508337037000, None], [1508341132000, 71498], [1508427017000, 71498], [1508427017000, None], [1508431166000, 71498], [1508449518000, 71498], [1508449518000, None], [1508453667000, 71498], [1508458506000, 71498], [1508458506000, None], [1508894633000, 72498], [1508899468000, 72498], [1508899468000, None], [1508907198000, 72498], [1508912026000, 72498], [1508912026000, None], [1508930598000, 72498], [1508934561000, 72498], [1508934561000, None], [1508937797000, 72498], [1508945335000, 72498], [1508945335000, None], [1508952198000, 72498], [1511464476000, 72498], [1511464476000, None], [1511820391000, 72498], [1511836382000, 72498], [1511836382000, None], [1511840255000, 72498], [1511844257000, 72498], [1511844257000, None], [1511851061000, 72498], [1511855051000, 72498], [1511855051000, None], [1511861860000, 72498], [1511869418000, 72498], [1511869418000, None], [1512107526000, 72498], [1512111518000, 72498], [1512111518000, None], [1512118361000, 72498], [1512122317000, 72498], [1512122317000, None], [1512125527000, 72498], [1512129498000, 72498], [1512129498000, None], [1514874919000, 72498], [1514878803000, 72498], [1514878803000, None], [1514882119000, 72498], [1514886000000, 72498], [1514886000000, None], [1514889319000, 72498], [1514896767000, 72498], [1514896767000, None], [1514900119000, 72498], [1514939686000, 75498], [1515274758000, 75498], [1515274758000, None], [1515278085000, 75498], [1515328767000, 75498], [1515328767000, None], [1515346381000, 75498], [1515350331000, 75498], [1515350331000, None], [1515353650000, 75498], [1515415134000, 75498], [1515415134000, None], [1515556080000, 75498], [1515559956000, 75498], [1515559956000, None], [1515566884000, 75498], [1515570759000, 75498], [1515570759000, None], [1515577680000, 75498], [1516060387000, 75498], [1516060387000, None], [1516067349000, 75498], [1516103657000, 75498], [1516103657000, None], [1516132080000, 78498], [1516153982000, 78498], [1516153982000, None], [1516419249000, 91498], [1516423111000, 91498], [1516423111000, None], [1516426485000, 91498], [1516430308000, 91498], [1516430308000, None], [1516440884000, 91498], [1516649838000, 91498], [1516649838000, None], [1516847579000, 91498], [1516858681000, 91498], [1516858681000, None], [1516869180000, 91498], [1516873142000, 91498], [1516873142000, None], [1516876379000, 91498], [1516883843000, 91498], [1516883843000, None], [1516905181000, 91498], [1516919915000, 91498], [1516919915000, None], [1516923249000, 91498], [1516937919000, 91498], [1516937919000, None], [1517246280000, 91498], [1517250224000, 91498], [1517250224000, None], [1517253480000, 91498], [1517257393000, 91498], [1517257393000, None], [1517300315000, 91498], [1517307783000, 91498], [1517307783000, None], [1517311116000, 91498], [1517314994000, 91498], [1517314994000, None], [1517541550000, 91498], [1517559819000, 91498], [1517559819000, None], [1517566715000, 91498], [1517574220000, 91498], [1517574220000, None], [1518114710000, 91498], [1518118660000, 91498], [1518118660000, None], [1518154415000, 91498], [1518158346000, 91498], [1518158346000, None], [1518165284000, 91498], [1518169110000, 91498], [1518169110000, None], [1518503650000, 91498], [1518507499000, 91498], [1518507499000, None], [1518518049000, 91498], [1518525499000, 91498], [1518525499000, None], [1518651250000, 91498], [1518658717000, 91498], [1518658717000, None], [1518662059000, 91498], [1518665917000, 91498], [1518665917000, None], [1518669250000, 91498], [1518676716000, 91498], [1518676716000, None], [1518683616000, 91498], [1518687523000, 91498], [1518687523000, None], [1518690780000, 91498], [1518709116000, 91498], [1518709116000, None], [1518712450000, 91498], [1519239187000, 91498], [1519239187000, None], [1519242515000, 91498], [1519246387000, 91498], [1519246387000, None], [1519253315000, 91498], [1519260751000, 91498], [1519260751000, None], [1519264080000, 91498], [1519267988000, 91498], [1519267988000, None], [1519274915000, 91498], [1519278821000, 91498], [1519278821000, None], [1519285750000, 91498], [1519433666000, 91498], [1519433666000, None], [1519768185000, 91498], [1519772026000, 91498], [1519772026000, None], [1519775421000, 91498], [1519779260000, 91498], [1519779260000, None], [1519850986000, 91498], [1519862061000, 91498], [1519862061000, None], [1519865386000, 91498], [1519869262000, 91498], [1519869262000, None], [1519872585000, 91498], [1519876459000, 91498], [1519876459000, None], [1519894308000, 91498], [1519905268000, 91498], [1519905268000, None], [1520454885000, 91498], [1520462378000, 91498], [1520462378000, None], [1520487320000, 91498], [1520494748000, 91498], [1520494748000, None], [1520501721000, 91498], [1520512749000, 91498], [1520512749000, None], [1520534085000, 91498], [1520541510000, 91498], [1520541510000, None], [1520544850000, 91498], [1520552337000, 91498], [1520552337000, None], [1520634885000, 91498], [1520645942000, 91498], [1520645942000, None], [1520876085000, 91498], [1520879911000, 91498], [1520879911000, None], [1521581722000, 91498], [1521585592000, 91498], [1521585592000, None], [1521588921000, 91498], [1521596390000, 91498], [1521596390000, None], [1521599722000, 91498], [1521603590000, 91498], [1521603590000, None], [1521606920000, 91498], [1521614390000, 91498], [1521614390000, None], [1521621322000, 91498], [1521830447000, 91498], [1521830447000, None], [1522082156000, 91498], [1522085995000, 91498], [1522085995000, None], [1522269356000, 91498], [1522280387000, 91498], [1522280387000, None], [1523989446000, 95498], [1524075956000, 95498], [1524075956000, None], [1526583159000, 75498], [1526604980000, 75498], [1526604980000, None], [1526673126000, 75498], [1527074681000, 75498], [1527074681000, None], [1527078058000, 75498], [1528148190000, 73498], [1528956410000, 73498]]\n",
      "-----\n",
      "B&H\n",
      "-----\n",
      "[[1465884410000, None], [1493299190000, 70999], [1494422348000, 69989], [1496063889000, 66989], [1496078290000, 68489], [1496236685000, 69989], [1496841465000, 68499], [1497791828000, 70999], [1497806229000, 72999], [1498483011000, 72999], [1498483011000, None], [1498670198000, 72999], [1498843001000, 72999], [1498843001000, None], [1500398141000, 72999], [1500556544000, 72999], [1500556544000, None], [1505481171000, 72999], [1506877929000, 72999], [1506877929000, None], [1506964318000, 72999], [1508245871000, 73989], [1509556222000, 72861], [1509642620000, 71999], [1512655707000, 72989], [1513865263000, 74989], [1513951659000, 76900], [1514815627000, 71999], [1514988431000, 71999], [1514988431000, None], [1521547377000, 98989], [1521979360000, 96989], [1523967927000, 96989], [1523967927000, None], [1528956410000, None]]\n"
     ]
    }
   ],
   "source": [
    "for merchant in price_data:\n",
    "    print('-----')\n",
    "    print(merchant['label'])\n",
    "    print('-----')\n",
    "    print(merchant['data'])\n",
    "    "
   ]
  },
  {
   "cell_type": "code",
   "execution_count": 23,
   "metadata": {},
   "outputs": [
    {
     "data": {
      "text/plain": [
       "'Newegg Business'"
      ]
     },
     "execution_count": 23,
     "metadata": {},
     "output_type": "execute_result"
    }
   ],
   "source": [
    "first_business = price_data[1]\n",
    "merchant_name = first_business['label']\n",
    "merchant_name"
   ]
  },
  {
   "cell_type": "code",
   "execution_count": 150,
   "metadata": {},
   "outputs": [
    {
     "data": {
      "text/html": [
       "<div>\n",
       "<style>\n",
       "    .dataframe thead tr:only-child th {\n",
       "        text-align: right;\n",
       "    }\n",
       "\n",
       "    .dataframe thead th {\n",
       "        text-align: left;\n",
       "    }\n",
       "\n",
       "    .dataframe tbody tr th {\n",
       "        vertical-align: top;\n",
       "    }\n",
       "</style>\n",
       "<table border=\"1\" class=\"dataframe\">\n",
       "  <thead>\n",
       "    <tr style=\"text-align: right;\">\n",
       "      <th></th>\n",
       "      <th>merchant_id</th>\n",
       "      <th>merchant_name</th>\n",
       "    </tr>\n",
       "  </thead>\n",
       "  <tbody>\n",
       "    <tr>\n",
       "      <th>0</th>\n",
       "      <td>1</td>\n",
       "      <td>Newegg Business</td>\n",
       "    </tr>\n",
       "  </tbody>\n",
       "</table>\n",
       "</div>"
      ],
      "text/plain": [
       "   merchant_id    merchant_name\n",
       "0            1  Newegg Business"
      ]
     },
     "execution_count": 150,
     "metadata": {},
     "output_type": "execute_result"
    }
   ],
   "source": [
    "DB = 'gpudata.db'\n",
    "select_query_merchants = 'SELECT * FROM merchants'\n",
    "temp_merchants_table = run_query(DB, select_query_merchants)\n",
    "temp_merchants_table"
   ]
  },
  {
   "cell_type": "code",
   "execution_count": 147,
   "metadata": {},
   "outputs": [
    {
     "name": "stdout",
     "output_type": "stream",
     "text": [
      "1\n"
     ]
    }
   ],
   "source": [
    "if merchant_name not in temp_merchants_table['merchant_name'].values:\n",
    "    run_inserts(DB, insert_query2,[(merchant_name)])\n",
    "else:\n",
    "    print(1)"
   ]
  },
  {
   "cell_type": "code",
   "execution_count": 135,
   "metadata": {
    "collapsed": true
   },
   "outputs": [],
   "source": [
    "insert_query2 = '''\n",
    "INSERT OR IGNORE INTO merchants(\n",
    "        merchant_name\n",
    ") \n",
    "VALUES (?)\n",
    "'''"
   ]
  },
  {
   "cell_type": "code",
   "execution_count": 136,
   "metadata": {},
   "outputs": [
    {
     "name": "stdout",
     "output_type": "stream",
     "text": [
      "\n",
      "INSERT OR IGNORE INTO merchants(\n",
      "        merchant_name\n",
      ") \n",
      "VALUES (?)\n",
      "\n"
     ]
    }
   ],
   "source": [
    "print(insert_query2)"
   ]
  },
  {
   "cell_type": "code",
   "execution_count": 159,
   "metadata": {},
   "outputs": [
    {
     "data": {
      "text/plain": [
       "1"
      ]
     },
     "execution_count": 159,
     "metadata": {},
     "output_type": "execute_result"
    }
   ],
   "source": [
    "merchant_id = temp_merchants_table[temp_merchants_table['merchant_name'] == merchant_name]['merchant_id'].values\n",
    "merchant_id[0]"
   ]
  },
  {
   "cell_type": "code",
   "execution_count": 42,
   "metadata": {},
   "outputs": [
    {
     "name": "stdout",
     "output_type": "stream",
     "text": [
      "[1465707298000, None]\n",
      "-\n",
      "[1521696786000, 91498]\n",
      "-\n",
      "[1521786797000, 91498]\n",
      "-\n",
      "[1521786797000, None]\n",
      "-\n",
      "[1524030499000, 95498]\n",
      "-\n",
      "[1524117359000, 95498]\n",
      "-\n",
      "[1524117359000, None]\n",
      "-\n",
      "[1528004706000, 75498]\n",
      "-\n",
      "[1528779298000, 75498]\n",
      "-\n"
     ]
    }
   ],
   "source": [
    "for timepoints in first_business['data']:\n",
    "    print(timepoints)\n",
    "    print('-')"
   ]
  },
  {
   "cell_type": "code",
   "execution_count": 36,
   "metadata": {},
   "outputs": [
    {
     "data": {
      "text/plain": [
       "91498"
      ]
     },
     "execution_count": 36,
     "metadata": {},
     "output_type": "execute_result"
    }
   ],
   "source": [
    "second_price = first_business['data'][1][1]\n",
    "second_price"
   ]
  },
  {
   "cell_type": "code",
   "execution_count": null,
   "metadata": {
    "collapsed": true
   },
   "outputs": [],
   "source": []
  },
  {
   "cell_type": "code",
   "execution_count": null,
   "metadata": {
    "collapsed": true
   },
   "outputs": [],
   "source": []
  },
  {
   "cell_type": "code",
   "execution_count": 172,
   "metadata": {
    "collapsed": true
   },
   "outputs": [],
   "source": [
    "def scrape_gpu_prices():\n",
    "    DB = 'gpudata.db'\n",
    "    prefix = ''\n",
    "    start_time = time.time()\n",
    "    \n",
    "    insert_query_prices = '''\n",
    "    INSERT OR IGNORE INTO gpu_prices(\n",
    "        item_id,\n",
    "        merchant_id,\n",
    "        datetime,\n",
    "        price\n",
    "    ) \n",
    "    VALUES (?, ?, ?, ?)\n",
    "    '''\n",
    "\n",
    "    insert_query_merchants = '''\n",
    "    INSERT OR IGNORE INTO merchants(\n",
    "        merchant_name\n",
    "    ) \n",
    "    VALUES (?)\n",
    "    '''\n",
    "    \n",
    "    #Pulls merchants table from the database\n",
    "    select_query_merchants = 'SELECT * FROM merchants'\n",
    "    temp_merchants_table = run_query(DB, select_query_merchants)\n",
    "    \n",
    "    #Pulls item_id table from the table gpu_specs\n",
    "    pull_ids = 'SELECT item_id FROM gpu_specs'\n",
    "    item_ids = run_query(DB, pull_ids)['item_id']\n",
    "    \n",
    "    for counter, item_id in enumerate(item_ids):\n",
    "        url = 'http://{0}pcpartpicker.com/product/{1}?history_days=730'.format(prefix, item_id)\n",
    "        response = get(url=url)\n",
    "        html_soup = BeautifulSoup(response.text, 'html.parser')\n",
    "        \n",
    "        #Search for the raw data\n",
    "        scripts = html_soup.findAll('script')\n",
    "        for script in scripts:\n",
    "            if 'phistmulti' in script.text:\n",
    "                data = script.prettify().split('\\n')\n",
    "                for line in data:\n",
    "                    if 'phistmulti' in line:\n",
    "                        idx = line.index('[')\n",
    "                        price_history = line[idx:-1]\n",
    "                        price_data = loads(price_history)\n",
    "                        break\n",
    "        \n",
    "        #Extracts price/merchant data\n",
    "        for merchant in price_data:\n",
    "            \n",
    "            #Creates a row in the table 'merchants' if merchant_name doesn't exist\n",
    "            merchant_name = merchant['label']\n",
    "            if merchant_name != 'No price history is available for this time period.':\n",
    "                if merchant_name not in temp_merchants_table['merchant_name'].values:\n",
    "                    try:\n",
    "                        run_inserts(DB, insert_query2,[(merchant_name)])\n",
    "                    except Exception as e:\n",
    "                        print('Failed to add into DB for {0}, {1}'.format(merchant_name, e))\n",
    "                        pass\n",
    "                    \n",
    "                    #Updates the temp_table\n",
    "                    temp_merchants_table = run_query(DB, select_query_merchants)\n",
    "                \n",
    "            for date_points in merchant['data']:\n",
    "                datetime = date_points[0]\n",
    "                price = date_points[1]\n",
    "                merchant_id = temp_merchants_table[temp_merchants_table['merchant_name'] == merchant_name]['merchant_id'].values[0]\n",
    "\n",
    "                try:\n",
    "                    run_inserts(DB, insert_query_prices,(\n",
    "                        item_id, int(merchant_id), float(datetime/1000.00), float(price/100.00) \n",
    "                        )\n",
    "                    )\n",
    "                except Exception as e:\n",
    "                    print('Failed to add into DB for item_id: {0}, datetime: {1}, merchant: {2}, {3}'.format(item_id, datetime, merchant_id, e))\n",
    "                    pass\n",
    "                \n",
    "                \n",
    "        #Provide stats for monitoring\n",
    "        current_time = time.time()\n",
    "        elapsed_time = current_time - start_time\n",
    "        requests = counter + 1\n",
    "        print('-------------------')\n",
    "        print('Requests Completed: {}; Frequency: {} requests/s'.format(requests, requests/elapsed_time))\n",
    "        print('Elapased Time: {} minutes'.format(elapsed_time/60))\n",
    "        if requests == len(item_ids):\n",
    "            clear_output(wait = True)\n",
    "            print('Scrape Complete')\n",
    "            break\n",
    "        print('Pausing...')    \n",
    "        time.sleep(random.uniform(8, 15))   \n",
    "        clear_output(wait = True)"
   ]
  },
  {
   "cell_type": "code",
   "execution_count": 173,
   "metadata": {},
   "outputs": [
    {
     "name": "stdout",
     "output_type": "stream",
     "text": [
      "Scrape Complete\n"
     ]
    }
   ],
   "source": [
    "scrape_gpu_prices()"
   ]
  },
  {
   "cell_type": "code",
   "execution_count": null,
   "metadata": {
    "collapsed": true
   },
   "outputs": [],
   "source": [
    "url = 'http://{0}pcpartpicker.com/product/{1}?history_days={2}'.format('', 'J3tWGX', 730)\n",
    "headers ={\"User-Agent\": \"gpudata web scraper for research, contact me at https://codingdisciple.com\"}\n",
    "response = get(url=url, headers=headers)\n",
    "html_soup = BeautifulSoup(response.text, 'html.parser')"
   ]
  },
  {
   "cell_type": "code",
   "execution_count": 1,
   "metadata": {},
   "outputs": [
    {
     "ename": "NameError",
     "evalue": "name 'html_soup' is not defined",
     "output_type": "error",
     "traceback": [
      "\u001b[1;31m---------------------------------------------------------------------------\u001b[0m",
      "\u001b[1;31mNameError\u001b[0m                                 Traceback (most recent call last)",
      "\u001b[1;32m<ipython-input-1-5b4482b99db3>\u001b[0m in \u001b[0;36m<module>\u001b[1;34m()\u001b[0m\n\u001b[1;32m----> 1\u001b[1;33m \u001b[0mspecs_block\u001b[0m \u001b[1;33m=\u001b[0m \u001b[0mhtml_soup\u001b[0m\u001b[1;33m.\u001b[0m\u001b[0mfind\u001b[0m\u001b[1;33m(\u001b[0m\u001b[1;34m'div'\u001b[0m\u001b[1;33m,\u001b[0m \u001b[0mclass_\u001b[0m\u001b[1;33m=\u001b[0m\u001b[1;34m'specs block'\u001b[0m\u001b[1;33m)\u001b[0m\u001b[1;33m\u001b[0m\u001b[0m\n\u001b[0m",
      "\u001b[1;31mNameError\u001b[0m: name 'html_soup' is not defined"
     ]
    }
   ],
   "source": [
    "specs_block = html_soup.find('div', class_='specs block')"
   ]
  },
  {
   "cell_type": "code",
   "execution_count": null,
   "metadata": {
    "collapsed": true
   },
   "outputs": [],
   "source": [
    "specs_block.find_all('h4')"
   ]
  }
 ],
 "metadata": {
  "kernelspec": {
   "display_name": "py36",
   "language": "python",
   "name": "py36"
  },
  "language_info": {
   "codemirror_mode": {
    "name": "ipython",
    "version": 3
   },
   "file_extension": ".py",
   "mimetype": "text/x-python",
   "name": "python",
   "nbconvert_exporter": "python",
   "pygments_lexer": "ipython3",
   "version": "3.6.3"
  }
 },
 "nbformat": 4,
 "nbformat_minor": 2
}
